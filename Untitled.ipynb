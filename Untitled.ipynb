{
 "cells": [
  {
   "cell_type": "code",
   "execution_count": 1,
   "id": "b26972c1",
   "metadata": {},
   "outputs": [],
   "source": [
    "import boto3\n"
   ]
  },
  {
   "cell_type": "code",
   "execution_count": 35,
   "id": "7ca68892",
   "metadata": {},
   "outputs": [],
   "source": [
    "def create_iam_role():\n",
    "    iam = boto3.client(\"iam\")\n",
    "\n",
    "    assume_role_policy_document = json.dumps({\n",
    "        \"Version\": \"2012-10-17\",\n",
    "        \"Statement\": [\n",
    "            {\n",
    "            \"Effect\": \"Allow\",\n",
    "            \"Principal\": {\n",
    "                \"Service\": \"glue.amazonaws.com\"\n",
    "            },\n",
    "            \"Action\": \"sts:AssumeRole\"\n",
    "            }\n",
    "        ]\n",
    "    })\n",
    "\n",
    "    response = iam.create_role(\n",
    "        RoleName = \"glueS3CrawlerRole\",\n",
    "        AssumeRolePolicyDocument = assume_role_policy_document\n",
    "    )\n",
    "\n",
    "    return response[\"Role\"][\"RoleName\"]"
   ]
  },
  {
   "cell_type": "code",
   "execution_count": 15,
   "id": "822e14fd",
   "metadata": {},
   "outputs": [],
   "source": [
    "def list_users():\n",
    "    iam = boto3.client(\"iam\")\n",
    "    paginator = iam.get_paginator('list_users')\n",
    "    for response in paginator.paginate():\n",
    "        for user in response[\"Users\"]:\n",
    "            print(f\"Username: {user['UserName']}, Arn: {user['Arn']}\")"
   ]
  },
  {
   "cell_type": "code",
   "execution_count": 11,
   "id": "65dda57e",
   "metadata": {},
   "outputs": [
    {
     "name": "stdout",
     "output_type": "stream",
     "text": [
      "aswiniawspandas\n",
      "awss3bucket-aswiniyuvan\n"
     ]
    }
   ],
   "source": [
    "s3=boto3.resource('s3')\n",
    "for each in s3.buckets.all():\n",
    "    print(each.name)"
   ]
  },
  {
   "cell_type": "code",
   "execution_count": 36,
   "id": "8d6dd0b1",
   "metadata": {},
   "outputs": [
    {
     "name": "stdout",
     "output_type": "stream",
     "text": [
      "['awsglueservicerole', 'AWSServiceRoleForElasticLoadBalancing', 'AWSServiceRoleForGlobalAccelerator', 'AWSServiceRoleForSupport', 'AWSServiceRoleForTrustedAdvisor']\n"
     ]
    }
   ],
   "source": [
    "client=boto3.client('iam')\n",
    "response=client.list_roles()\n",
    "roles=response['Roles']\n",
    "print([role['RoleName'] for role in roles])"
   ]
  },
  {
   "cell_type": "code",
   "execution_count": 27,
   "id": "975012c9",
   "metadata": {},
   "outputs": [],
   "source": [
    "trust_relationship_policy={\n",
    "    \"Version\": \"2012-10-17\",\n",
    "    \"Statement\": [\n",
    "        {\n",
    "            \"Effect\": \"Allow\",\n",
    "            \"Principal\": {\n",
    "                \"Service\": \"glue.amazonaws.com\"\n",
    "            },\n",
    "            \"Action\": \"sts:AssumeRole\"\n",
    "        }\n",
    "    ]\n",
    "}"
   ]
  },
  {
   "cell_type": "code",
   "execution_count": 28,
   "id": "84195a06",
   "metadata": {},
   "outputs": [],
   "source": [
    "trust_relationship_policy_another_iam_user = {\n",
    "    \"Version\": \"2012-10-17\",\n",
    "    \"Statement\": [\n",
    "        {\n",
    "            \"Effect\": \"Allow\",\n",
    "            \"Action\": [\n",
    "                \"glue:*\",\n",
    "                \"s3:GetBucketLocation\",\n",
    "                \"s3:ListBucket\",\n",
    "                \"s3:ListAllMyBuckets\",\n",
    "                \"s3:GetBucketAcl\",\n",
    "                \"ec2:DescribeVpcEndpoints\",\n",
    "                \"ec2:DescribeRouteTables\",\n",
    "                \"ec2:CreateNetworkInterface\",\n",
    "                \"ec2:DeleteNetworkInterface\",\n",
    "                \"ec2:DescribeNetworkInterfaces\",\n",
    "                \"ec2:DescribeSecurityGroups\",\n",
    "                \"ec2:DescribeSubnets\",\n",
    "                \"ec2:DescribeVpcAttribute\",\n",
    "                \"iam:ListRolePolicies\",\n",
    "                \"iam:GetRole\",\n",
    "                \"iam:GetRolePolicy\",\n",
    "                \"cloudwatch:PutMetricData\"\n",
    "            ],\n",
    "            \"Resource\": [\n",
    "                \"*\"\n",
    "            ]\n",
    "        },\n",
    "        {\n",
    "            \"Effect\": \"Allow\",\n",
    "            \"Action\": [\n",
    "                \"s3:CreateBucket\"\n",
    "            ],\n",
    "            \"Resource\": [\n",
    "                \"arn:aws:s3:::aws-glue-*\"\n",
    "            ]\n",
    "        },\n",
    "        {\n",
    "            \"Effect\": \"Allow\",\n",
    "            \"Action\": [\n",
    "                \"s3:GetObject\",\n",
    "                \"s3:PutObject\",\n",
    "                \"s3:DeleteObject\"\n",
    "            ],\n",
    "            \"Resource\": [\n",
    "                \"arn:aws:s3:::aws-glue-*/*\",\n",
    "                \"arn:aws:s3:::*/*aws-glue-*/*\"\n",
    "            ]\n",
    "        },\n",
    "        {\n",
    "            \"Effect\": \"Allow\",\n",
    "            \"Action\": [\n",
    "                \"s3:GetObject\"\n",
    "            ],\n",
    "            \"Resource\": [\n",
    "                \"arn:aws:s3:::crawler-public*\",\n",
    "                \"arn:aws:s3:::aws-glue-*\"\n",
    "            ]\n",
    "        },\n",
    "        {\n",
    "            \"Effect\": \"Allow\",\n",
    "            \"Action\": [\n",
    "                \"logs:CreateLogGroup\",\n",
    "                \"logs:CreateLogStream\",\n",
    "                \"logs:PutLogEvents\"\n",
    "            ],\n",
    "            \"Resource\": [\n",
    "                \"arn:aws:logs:*:*:/aws-glue/*\"\n",
    "            ]\n",
    "        },\n",
    "        {\n",
    "            \"Effect\": \"Allow\",\n",
    "            \"Action\": [\n",
    "                \"ec2:CreateTags\",\n",
    "                \"ec2:DeleteTags\"\n",
    "            ],\n",
    "            \"Condition\": {\n",
    "                \"ForAllValues:StringEquals\": {\n",
    "                    \"aws:TagKeys\": [\n",
    "                        \"aws-glue-service-resource\"\n",
    "                    ]\n",
    "                }\n",
    "            },\n",
    "            \"Resource\": [\n",
    "                \"arn:aws:ec2:*:*:network-interface/*\",\n",
    "                \"arn:aws:ec2:*:*:security-group/*\",\n",
    "                \"arn:aws:ec2:*:*:instance/*\"\n",
    "            ]\n",
    "        }\n",
    "    ]\n",
    "}"
   ]
  },
  {
   "cell_type": "code",
   "execution_count": 39,
   "id": "854c7a24",
   "metadata": {},
   "outputs": [
    {
     "ename": "ParamValidationError",
     "evalue": "Parameter validation failed:\nInvalid length for parameter PolicyArn, value: 0, valid min length: 20",
     "output_type": "error",
     "traceback": [
      "\u001b[0;31m---------------------------------------------------------------------------\u001b[0m",
      "\u001b[0;31mParamValidationError\u001b[0m                      Traceback (most recent call last)",
      "Input \u001b[0;32mIn [39]\u001b[0m, in \u001b[0;36m<cell line: 2>\u001b[0;34m()\u001b[0m\n\u001b[1;32m      1\u001b[0m policy_arn\u001b[38;5;241m=\u001b[39m\u001b[38;5;124m'\u001b[39m\u001b[38;5;124m'\u001b[39m\n\u001b[0;32m----> 2\u001b[0m policy_attach_res \u001b[38;5;241m=\u001b[39m \u001b[43mclient\u001b[49m\u001b[38;5;241;43m.\u001b[39;49m\u001b[43mattach_role_policy\u001b[49m\u001b[43m(\u001b[49m\n\u001b[1;32m      3\u001b[0m \u001b[43m        \u001b[49m\u001b[43mRoleName\u001b[49m\u001b[38;5;241;43m=\u001b[39;49m\u001b[43mrole_name\u001b[49m\u001b[43m,\u001b[49m\n\u001b[1;32m      4\u001b[0m \u001b[43m        \u001b[49m\u001b[43mPolicyArn\u001b[49m\u001b[38;5;241;43m=\u001b[39;49m\u001b[43mpolicy_arn\u001b[49m\n\u001b[1;32m      5\u001b[0m \u001b[43m    \u001b[49m\u001b[43m)\u001b[49m\n",
      "File \u001b[0;32m~/opt/anaconda3/lib/python3.9/site-packages/botocore/client.py:508\u001b[0m, in \u001b[0;36mClientCreator._create_api_method.<locals>._api_call\u001b[0;34m(self, *args, **kwargs)\u001b[0m\n\u001b[1;32m    504\u001b[0m     \u001b[38;5;28;01mraise\u001b[39;00m \u001b[38;5;167;01mTypeError\u001b[39;00m(\n\u001b[1;32m    505\u001b[0m         \u001b[38;5;124mf\u001b[39m\u001b[38;5;124m\"\u001b[39m\u001b[38;5;132;01m{\u001b[39;00mpy_operation_name\u001b[38;5;132;01m}\u001b[39;00m\u001b[38;5;124m() only accepts keyword arguments.\u001b[39m\u001b[38;5;124m\"\u001b[39m\n\u001b[1;32m    506\u001b[0m     )\n\u001b[1;32m    507\u001b[0m \u001b[38;5;66;03m# The \"self\" in this scope is referring to the BaseClient.\u001b[39;00m\n\u001b[0;32m--> 508\u001b[0m \u001b[38;5;28;01mreturn\u001b[39;00m \u001b[38;5;28;43mself\u001b[39;49m\u001b[38;5;241;43m.\u001b[39;49m\u001b[43m_make_api_call\u001b[49m\u001b[43m(\u001b[49m\u001b[43moperation_name\u001b[49m\u001b[43m,\u001b[49m\u001b[43m \u001b[49m\u001b[43mkwargs\u001b[49m\u001b[43m)\u001b[49m\n",
      "File \u001b[0;32m~/opt/anaconda3/lib/python3.9/site-packages/botocore/client.py:878\u001b[0m, in \u001b[0;36mBaseClient._make_api_call\u001b[0;34m(self, operation_name, api_params)\u001b[0m\n\u001b[1;32m    869\u001b[0m     logger\u001b[38;5;241m.\u001b[39mdebug(\n\u001b[1;32m    870\u001b[0m         \u001b[38;5;124m'\u001b[39m\u001b[38;5;124mWarning: \u001b[39m\u001b[38;5;132;01m%s\u001b[39;00m\u001b[38;5;124m.\u001b[39m\u001b[38;5;132;01m%s\u001b[39;00m\u001b[38;5;124m() is deprecated\u001b[39m\u001b[38;5;124m'\u001b[39m, service_name, operation_name\n\u001b[1;32m    871\u001b[0m     )\n\u001b[1;32m    872\u001b[0m request_context \u001b[38;5;241m=\u001b[39m {\n\u001b[1;32m    873\u001b[0m     \u001b[38;5;124m'\u001b[39m\u001b[38;5;124mclient_region\u001b[39m\u001b[38;5;124m'\u001b[39m: \u001b[38;5;28mself\u001b[39m\u001b[38;5;241m.\u001b[39mmeta\u001b[38;5;241m.\u001b[39mregion_name,\n\u001b[1;32m    874\u001b[0m     \u001b[38;5;124m'\u001b[39m\u001b[38;5;124mclient_config\u001b[39m\u001b[38;5;124m'\u001b[39m: \u001b[38;5;28mself\u001b[39m\u001b[38;5;241m.\u001b[39mmeta\u001b[38;5;241m.\u001b[39mconfig,\n\u001b[1;32m    875\u001b[0m     \u001b[38;5;124m'\u001b[39m\u001b[38;5;124mhas_streaming_input\u001b[39m\u001b[38;5;124m'\u001b[39m: operation_model\u001b[38;5;241m.\u001b[39mhas_streaming_input,\n\u001b[1;32m    876\u001b[0m     \u001b[38;5;124m'\u001b[39m\u001b[38;5;124mauth_type\u001b[39m\u001b[38;5;124m'\u001b[39m: operation_model\u001b[38;5;241m.\u001b[39mauth_type,\n\u001b[1;32m    877\u001b[0m }\n\u001b[0;32m--> 878\u001b[0m request_dict \u001b[38;5;241m=\u001b[39m \u001b[38;5;28;43mself\u001b[39;49m\u001b[38;5;241;43m.\u001b[39;49m\u001b[43m_convert_to_request_dict\u001b[49m\u001b[43m(\u001b[49m\n\u001b[1;32m    879\u001b[0m \u001b[43m    \u001b[49m\u001b[43mapi_params\u001b[49m\u001b[43m,\u001b[49m\u001b[43m \u001b[49m\u001b[43moperation_model\u001b[49m\u001b[43m,\u001b[49m\u001b[43m \u001b[49m\u001b[43mcontext\u001b[49m\u001b[38;5;241;43m=\u001b[39;49m\u001b[43mrequest_context\u001b[49m\n\u001b[1;32m    880\u001b[0m \u001b[43m\u001b[49m\u001b[43m)\u001b[49m\n\u001b[1;32m    881\u001b[0m resolve_checksum_context(request_dict, operation_model, api_params)\n\u001b[1;32m    883\u001b[0m service_id \u001b[38;5;241m=\u001b[39m \u001b[38;5;28mself\u001b[39m\u001b[38;5;241m.\u001b[39m_service_model\u001b[38;5;241m.\u001b[39mservice_id\u001b[38;5;241m.\u001b[39mhyphenize()\n",
      "File \u001b[0;32m~/opt/anaconda3/lib/python3.9/site-packages/botocore/client.py:939\u001b[0m, in \u001b[0;36mBaseClient._convert_to_request_dict\u001b[0;34m(self, api_params, operation_model, context)\u001b[0m\n\u001b[1;32m    933\u001b[0m \u001b[38;5;28;01mdef\u001b[39;00m \u001b[38;5;21m_convert_to_request_dict\u001b[39m(\n\u001b[1;32m    934\u001b[0m     \u001b[38;5;28mself\u001b[39m, api_params, operation_model, context\u001b[38;5;241m=\u001b[39m\u001b[38;5;28;01mNone\u001b[39;00m\n\u001b[1;32m    935\u001b[0m ):\n\u001b[1;32m    936\u001b[0m     api_params \u001b[38;5;241m=\u001b[39m \u001b[38;5;28mself\u001b[39m\u001b[38;5;241m.\u001b[39m_emit_api_params(\n\u001b[1;32m    937\u001b[0m         api_params, operation_model, context\n\u001b[1;32m    938\u001b[0m     )\n\u001b[0;32m--> 939\u001b[0m     request_dict \u001b[38;5;241m=\u001b[39m \u001b[38;5;28;43mself\u001b[39;49m\u001b[38;5;241;43m.\u001b[39;49m\u001b[43m_serializer\u001b[49m\u001b[38;5;241;43m.\u001b[39;49m\u001b[43mserialize_to_request\u001b[49m\u001b[43m(\u001b[49m\n\u001b[1;32m    940\u001b[0m \u001b[43m        \u001b[49m\u001b[43mapi_params\u001b[49m\u001b[43m,\u001b[49m\u001b[43m \u001b[49m\u001b[43moperation_model\u001b[49m\n\u001b[1;32m    941\u001b[0m \u001b[43m    \u001b[49m\u001b[43m)\u001b[49m\n\u001b[1;32m    942\u001b[0m     \u001b[38;5;28;01mif\u001b[39;00m \u001b[38;5;129;01mnot\u001b[39;00m \u001b[38;5;28mself\u001b[39m\u001b[38;5;241m.\u001b[39m_client_config\u001b[38;5;241m.\u001b[39minject_host_prefix:\n\u001b[1;32m    943\u001b[0m         request_dict\u001b[38;5;241m.\u001b[39mpop(\u001b[38;5;124m'\u001b[39m\u001b[38;5;124mhost_prefix\u001b[39m\u001b[38;5;124m'\u001b[39m, \u001b[38;5;28;01mNone\u001b[39;00m)\n",
      "File \u001b[0;32m~/opt/anaconda3/lib/python3.9/site-packages/botocore/validate.py:381\u001b[0m, in \u001b[0;36mParamValidationDecorator.serialize_to_request\u001b[0;34m(self, parameters, operation_model)\u001b[0m\n\u001b[1;32m    377\u001b[0m     report \u001b[38;5;241m=\u001b[39m \u001b[38;5;28mself\u001b[39m\u001b[38;5;241m.\u001b[39m_param_validator\u001b[38;5;241m.\u001b[39mvalidate(\n\u001b[1;32m    378\u001b[0m         parameters, operation_model\u001b[38;5;241m.\u001b[39minput_shape\n\u001b[1;32m    379\u001b[0m     )\n\u001b[1;32m    380\u001b[0m     \u001b[38;5;28;01mif\u001b[39;00m report\u001b[38;5;241m.\u001b[39mhas_errors():\n\u001b[0;32m--> 381\u001b[0m         \u001b[38;5;28;01mraise\u001b[39;00m ParamValidationError(report\u001b[38;5;241m=\u001b[39mreport\u001b[38;5;241m.\u001b[39mgenerate_report())\n\u001b[1;32m    382\u001b[0m \u001b[38;5;28;01mreturn\u001b[39;00m \u001b[38;5;28mself\u001b[39m\u001b[38;5;241m.\u001b[39m_serializer\u001b[38;5;241m.\u001b[39mserialize_to_request(\n\u001b[1;32m    383\u001b[0m     parameters, operation_model\n\u001b[1;32m    384\u001b[0m )\n",
      "\u001b[0;31mParamValidationError\u001b[0m: Parameter validation failed:\nInvalid length for parameter PolicyArn, value: 0, valid min length: 20"
     ]
    }
   ],
   "source": [
    "policy_arn=''\n",
    "policy_attach_res = client.attach_role_policy(\n",
    "        RoleName=role_name,\n",
    "        PolicyArn=policy_arn\n",
    "    )"
   ]
  },
  {
   "cell_type": "code",
   "execution_count": 37,
   "id": "0254fd6d",
   "metadata": {},
   "outputs": [
    {
     "name": "stdout",
     "output_type": "stream",
     "text": [
      "['AWSServiceRoleForElasticLoadBalancing', 'AWSServiceRoleForGlobalAccelerator', 'AWSServiceRoleForSupport', 'AWSServiceRoleForTrustedAdvisor']\n"
     ]
    }
   ],
   "source": [
    "client=boto3.client('iam')\n",
    "response=client.list_roles()\n",
    "roles=response['Roles']\n",
    "print([role['RoleName'] for role in roles])"
   ]
  },
  {
   "cell_type": "code",
   "execution_count": 49,
   "id": "724deb57",
   "metadata": {},
   "outputs": [],
   "source": [
    "import json\n",
    "role=\"awsgluerole\"\n",
    "create_role_res = client.create_role(\n",
    "        RoleName=role,\n",
    "        AssumeRolePolicyDocument=json.dumps(trust_relationship_policy),\n",
    "        Description='This is a test role',\n",
    "        Tags=[\n",
    "            {\n",
    "                'Key': 'Owner',\n",
    "                'Value': 'msb'\n",
    "            }\n",
    "        ]\n",
    "    )"
   ]
  },
  {
   "cell_type": "code",
   "execution_count": 55,
   "id": "f8fdcde1",
   "metadata": {},
   "outputs": [
    {
     "ename": "EntityAlreadyExistsException",
     "evalue": "An error occurred (EntityAlreadyExists) when calling the CreatePolicy operation: A policy called policyawsglue already exists. Duplicate names are not allowed.",
     "output_type": "error",
     "traceback": [
      "\u001b[0;31m---------------------------------------------------------------------------\u001b[0m",
      "\u001b[0;31mEntityAlreadyExistsException\u001b[0m              Traceback (most recent call last)",
      "Input \u001b[0;32mIn [55]\u001b[0m, in \u001b[0;36m<cell line: 3>\u001b[0;34m()\u001b[0m\n\u001b[1;32m      1\u001b[0m policy_name\u001b[38;5;241m=\u001b[39m\u001b[38;5;124m'\u001b[39m\u001b[38;5;124mpolicyawsglue\u001b[39m\u001b[38;5;124m'\u001b[39m\n\u001b[1;32m      2\u001b[0m trust_relationship_policy_another_iam_user\n\u001b[0;32m----> 3\u001b[0m policy_res \u001b[38;5;241m=\u001b[39m \u001b[43mclient\u001b[49m\u001b[38;5;241;43m.\u001b[39;49m\u001b[43mcreate_policy\u001b[49m\u001b[43m(\u001b[49m\n\u001b[1;32m      4\u001b[0m \u001b[43m        \u001b[49m\u001b[43mPolicyName\u001b[49m\u001b[38;5;241;43m=\u001b[39;49m\u001b[43mpolicy_name\u001b[49m\u001b[43m,\u001b[49m\n\u001b[1;32m      5\u001b[0m \u001b[43m        \u001b[49m\u001b[43mPolicyDocument\u001b[49m\u001b[38;5;241;43m=\u001b[39;49m\u001b[43mjson\u001b[49m\u001b[38;5;241;43m.\u001b[39;49m\u001b[43mdumps\u001b[49m\u001b[43m(\u001b[49m\u001b[43mtrust_relationship_policy_another_iam_user\u001b[49m\u001b[43m)\u001b[49m\n\u001b[1;32m      6\u001b[0m \u001b[43m    \u001b[49m\u001b[43m)\u001b[49m\n",
      "File \u001b[0;32m~/opt/anaconda3/lib/python3.9/site-packages/botocore/client.py:508\u001b[0m, in \u001b[0;36mClientCreator._create_api_method.<locals>._api_call\u001b[0;34m(self, *args, **kwargs)\u001b[0m\n\u001b[1;32m    504\u001b[0m     \u001b[38;5;28;01mraise\u001b[39;00m \u001b[38;5;167;01mTypeError\u001b[39;00m(\n\u001b[1;32m    505\u001b[0m         \u001b[38;5;124mf\u001b[39m\u001b[38;5;124m\"\u001b[39m\u001b[38;5;132;01m{\u001b[39;00mpy_operation_name\u001b[38;5;132;01m}\u001b[39;00m\u001b[38;5;124m() only accepts keyword arguments.\u001b[39m\u001b[38;5;124m\"\u001b[39m\n\u001b[1;32m    506\u001b[0m     )\n\u001b[1;32m    507\u001b[0m \u001b[38;5;66;03m# The \"self\" in this scope is referring to the BaseClient.\u001b[39;00m\n\u001b[0;32m--> 508\u001b[0m \u001b[38;5;28;01mreturn\u001b[39;00m \u001b[38;5;28;43mself\u001b[39;49m\u001b[38;5;241;43m.\u001b[39;49m\u001b[43m_make_api_call\u001b[49m\u001b[43m(\u001b[49m\u001b[43moperation_name\u001b[49m\u001b[43m,\u001b[49m\u001b[43m \u001b[49m\u001b[43mkwargs\u001b[49m\u001b[43m)\u001b[49m\n",
      "File \u001b[0;32m~/opt/anaconda3/lib/python3.9/site-packages/botocore/client.py:915\u001b[0m, in \u001b[0;36mBaseClient._make_api_call\u001b[0;34m(self, operation_name, api_params)\u001b[0m\n\u001b[1;32m    913\u001b[0m     error_code \u001b[38;5;241m=\u001b[39m parsed_response\u001b[38;5;241m.\u001b[39mget(\u001b[38;5;124m\"\u001b[39m\u001b[38;5;124mError\u001b[39m\u001b[38;5;124m\"\u001b[39m, {})\u001b[38;5;241m.\u001b[39mget(\u001b[38;5;124m\"\u001b[39m\u001b[38;5;124mCode\u001b[39m\u001b[38;5;124m\"\u001b[39m)\n\u001b[1;32m    914\u001b[0m     error_class \u001b[38;5;241m=\u001b[39m \u001b[38;5;28mself\u001b[39m\u001b[38;5;241m.\u001b[39mexceptions\u001b[38;5;241m.\u001b[39mfrom_code(error_code)\n\u001b[0;32m--> 915\u001b[0m     \u001b[38;5;28;01mraise\u001b[39;00m error_class(parsed_response, operation_name)\n\u001b[1;32m    916\u001b[0m \u001b[38;5;28;01melse\u001b[39;00m:\n\u001b[1;32m    917\u001b[0m     \u001b[38;5;28;01mreturn\u001b[39;00m parsed_response\n",
      "\u001b[0;31mEntityAlreadyExistsException\u001b[0m: An error occurred (EntityAlreadyExists) when calling the CreatePolicy operation: A policy called policyawsglue already exists. Duplicate names are not allowed."
     ]
    }
   ],
   "source": [
    "policy_name='policyawsglue'\n",
    "trust_relationship_policy_another_iam_user\n",
    "policy_res = client.create_policy(\n",
    "        PolicyName=policy_name,\n",
    "        PolicyDocument=json.dumps(trust_relationship_policy_another_iam_user)\n",
    "    )"
   ]
  },
  {
   "cell_type": "code",
   "execution_count": 58,
   "id": "7a1c7db6",
   "metadata": {},
   "outputs": [],
   "source": [
    "policy_arn=policy_res['Policy']['Arn']\n",
    "\n",
    "policy_attach_res = client.attach_role_policy(\n",
    "        RoleName=role,\n",
    "        PolicyArn=policy_arn\n",
    "    )"
   ]
  },
  {
   "cell_type": "code",
   "execution_count": 62,
   "id": "33e1557a",
   "metadata": {},
   "outputs": [
    {
     "ename": "NoSuchBucket",
     "evalue": "An error occurred (NoSuchBucket) when calling the DeleteBucket operation: The specified bucket does not exist",
     "output_type": "error",
     "traceback": [
      "\u001b[0;31m---------------------------------------------------------------------------\u001b[0m",
      "\u001b[0;31mNoSuchBucket\u001b[0m                              Traceback (most recent call last)",
      "Input \u001b[0;32mIn [62]\u001b[0m, in \u001b[0;36m<cell line: 4>\u001b[0;34m()\u001b[0m\n\u001b[1;32m      1\u001b[0m s3\u001b[38;5;241m=\u001b[39mboto3\u001b[38;5;241m.\u001b[39mclient(\u001b[38;5;124m'\u001b[39m\u001b[38;5;124ms3\u001b[39m\u001b[38;5;124m'\u001b[39m)\n\u001b[1;32m      2\u001b[0m bucket\u001b[38;5;241m=\u001b[39m\u001b[38;5;124m'\u001b[39m\u001b[38;5;124maswiniawspandas\u001b[39m\u001b[38;5;124m'\u001b[39m\n\u001b[0;32m----> 4\u001b[0m \u001b[43ms3\u001b[49m\u001b[38;5;241;43m.\u001b[39;49m\u001b[43mdelete_bucket\u001b[49m\u001b[43m(\u001b[49m\u001b[43mBucket\u001b[49m\u001b[38;5;241;43m=\u001b[39;49m\u001b[43mbucket\u001b[49m\u001b[43m)\u001b[49m\n",
      "File \u001b[0;32m~/opt/anaconda3/lib/python3.9/site-packages/botocore/client.py:508\u001b[0m, in \u001b[0;36mClientCreator._create_api_method.<locals>._api_call\u001b[0;34m(self, *args, **kwargs)\u001b[0m\n\u001b[1;32m    504\u001b[0m     \u001b[38;5;28;01mraise\u001b[39;00m \u001b[38;5;167;01mTypeError\u001b[39;00m(\n\u001b[1;32m    505\u001b[0m         \u001b[38;5;124mf\u001b[39m\u001b[38;5;124m\"\u001b[39m\u001b[38;5;132;01m{\u001b[39;00mpy_operation_name\u001b[38;5;132;01m}\u001b[39;00m\u001b[38;5;124m() only accepts keyword arguments.\u001b[39m\u001b[38;5;124m\"\u001b[39m\n\u001b[1;32m    506\u001b[0m     )\n\u001b[1;32m    507\u001b[0m \u001b[38;5;66;03m# The \"self\" in this scope is referring to the BaseClient.\u001b[39;00m\n\u001b[0;32m--> 508\u001b[0m \u001b[38;5;28;01mreturn\u001b[39;00m \u001b[38;5;28;43mself\u001b[39;49m\u001b[38;5;241;43m.\u001b[39;49m\u001b[43m_make_api_call\u001b[49m\u001b[43m(\u001b[49m\u001b[43moperation_name\u001b[49m\u001b[43m,\u001b[49m\u001b[43m \u001b[49m\u001b[43mkwargs\u001b[49m\u001b[43m)\u001b[49m\n",
      "File \u001b[0;32m~/opt/anaconda3/lib/python3.9/site-packages/botocore/client.py:915\u001b[0m, in \u001b[0;36mBaseClient._make_api_call\u001b[0;34m(self, operation_name, api_params)\u001b[0m\n\u001b[1;32m    913\u001b[0m     error_code \u001b[38;5;241m=\u001b[39m parsed_response\u001b[38;5;241m.\u001b[39mget(\u001b[38;5;124m\"\u001b[39m\u001b[38;5;124mError\u001b[39m\u001b[38;5;124m\"\u001b[39m, {})\u001b[38;5;241m.\u001b[39mget(\u001b[38;5;124m\"\u001b[39m\u001b[38;5;124mCode\u001b[39m\u001b[38;5;124m\"\u001b[39m)\n\u001b[1;32m    914\u001b[0m     error_class \u001b[38;5;241m=\u001b[39m \u001b[38;5;28mself\u001b[39m\u001b[38;5;241m.\u001b[39mexceptions\u001b[38;5;241m.\u001b[39mfrom_code(error_code)\n\u001b[0;32m--> 915\u001b[0m     \u001b[38;5;28;01mraise\u001b[39;00m error_class(parsed_response, operation_name)\n\u001b[1;32m    916\u001b[0m \u001b[38;5;28;01melse\u001b[39;00m:\n\u001b[1;32m    917\u001b[0m     \u001b[38;5;28;01mreturn\u001b[39;00m parsed_response\n",
      "\u001b[0;31mNoSuchBucket\u001b[0m: An error occurred (NoSuchBucket) when calling the DeleteBucket operation: The specified bucket does not exist"
     ]
    }
   ],
   "source": [
    "s3=boto3.client('s3')\n",
    "bucket='aswiniawspandas'\n",
    "\n",
    "s3.delete_bucket(Bucket=bucket)\n"
   ]
  },
  {
   "cell_type": "code",
   "execution_count": 63,
   "id": "cdb150c0",
   "metadata": {},
   "outputs": [
    {
     "data": {
      "text/plain": [
       "{'ResponseMetadata': {'RequestId': 'ZDKZCZD00XJ2K9DC',\n",
       "  'HostId': 'cUpN6dexVf8ZCwoeq0OzG69Y8gl7IX6HutQdwy9AJy+QaE5eLdqhWZte+Ei8enaRbTuaylscaiQ=',\n",
       "  'HTTPStatusCode': 204,\n",
       "  'HTTPHeaders': {'x-amz-id-2': 'cUpN6dexVf8ZCwoeq0OzG69Y8gl7IX6HutQdwy9AJy+QaE5eLdqhWZte+Ei8enaRbTuaylscaiQ=',\n",
       "   'x-amz-request-id': 'ZDKZCZD00XJ2K9DC',\n",
       "   'date': 'Wed, 30 Nov 2022 23:06:13 GMT',\n",
       "   'server': 'AmazonS3'},\n",
       "  'RetryAttempts': 1}}"
      ]
     },
     "execution_count": 63,
     "metadata": {},
     "output_type": "execute_result"
    }
   ],
   "source": [
    "bucket='awss3bucket-aswiniyuvan'\n",
    "s3.delete_bucket(Bucket=bucket)"
   ]
  },
  {
   "cell_type": "code",
   "execution_count": 64,
   "id": "36061d26",
   "metadata": {},
   "outputs": [
    {
     "data": {
      "text/plain": [
       "{'ResponseMetadata': {'RequestId': 'VZDTXKB38K1V537W',\n",
       "  'HostId': 'VWzhezUMVbjHgQ/EIbliGGLdXjBvZmP6rgfwX737WTey/heTz7RClL3jEJVBDur/8yQEKNo+dEs=',\n",
       "  'HTTPStatusCode': 200,\n",
       "  'HTTPHeaders': {'x-amz-id-2': 'VWzhezUMVbjHgQ/EIbliGGLdXjBvZmP6rgfwX737WTey/heTz7RClL3jEJVBDur/8yQEKNo+dEs=',\n",
       "   'x-amz-request-id': 'VZDTXKB38K1V537W',\n",
       "   'date': 'Wed, 30 Nov 2022 23:07:05 GMT',\n",
       "   'location': '/aswiniyuvanawsglue',\n",
       "   'server': 'AmazonS3',\n",
       "   'content-length': '0'},\n",
       "  'RetryAttempts': 0},\n",
       " 'Location': '/aswiniyuvanawsglue'}"
      ]
     },
     "execution_count": 64,
     "metadata": {},
     "output_type": "execute_result"
    }
   ],
   "source": [
    "s3 = boto3.client('s3')\n",
    "s3.create_bucket(Bucket='aswiniyuvanawsglue')"
   ]
  },
  {
   "cell_type": "code",
   "execution_count": null,
   "id": "e245732b",
   "metadata": {},
   "outputs": [],
   "source": [
    "s3 = boto3.client('s3')\n",
    "\n",
    "filename = 'womens_clothing_ecommerce_reviews.csv'\n",
    "bucket_name = 'aswiniyuvanawsglue'\n",
    "\n",
    "# Uploads the given file using a managed uploader, which will split up large\n",
    "# files automatically and upload parts in parallel.\n",
    "s3.upload_file(filename, bucket_name, filename)\n"
   ]
  },
  {
   "cell_type": "code",
   "execution_count": 6,
   "id": "49b7e6d1",
   "metadata": {},
   "outputs": [
    {
     "name": "stdout",
     "output_type": "stream",
     "text": [
      "hello\n",
      "enter value7\n",
      "11\n"
     ]
    }
   ],
   "source": [
    "import pandas as pd\n",
    "\n",
    "print(\"hello\")\n",
    "value=int(input(\"enter value\"))\n",
    "print(value+4)"
   ]
  },
  {
   "cell_type": "code",
   "execution_count": 11,
   "id": "e7d31b7e",
   "metadata": {},
   "outputs": [
    {
     "data": {
      "text/plain": [
       "{'ResponseMetadata': {'RequestId': 'TDYTY3YHXHS7AD03',\n",
       "  'HostId': 'hZOac78kdFpdFBVty648V3DcPsDALgLU51PqZxxwWsFMhNzdedaISFYm/tlTnebj6jODBeB70FM=',\n",
       "  'HTTPStatusCode': 200,\n",
       "  'HTTPHeaders': {'x-amz-id-2': 'hZOac78kdFpdFBVty648V3DcPsDALgLU51PqZxxwWsFMhNzdedaISFYm/tlTnebj6jODBeB70FM=',\n",
       "   'x-amz-request-id': 'TDYTY3YHXHS7AD03',\n",
       "   'date': 'Mon, 05 Dec 2022 17:00:43 GMT',\n",
       "   'etag': '\"d41d8cd98f00b204e9800998ecf8427e\"',\n",
       "   'server': 'AmazonS3',\n",
       "   'content-length': '0'},\n",
       "  'RetryAttempts': 0},\n",
       " 'ETag': '\"d41d8cd98f00b204e9800998ecf8427e\"'}"
      ]
     },
     "execution_count": 11,
     "metadata": {},
     "output_type": "execute_result"
    }
   ],
   "source": [
    "import boto3\n",
    "s3 = boto3.client('s3')\n",
    "s3.create_bucket(Bucket='aswiniyuvanawsgluetarget')\n",
    "#s3.create_bucket(Bucket='aswiniyuvanawsgluetarget/targetfolder')\n",
    "bucket_name = \"aswiniyuvanawsgluetarget\"\n",
    "directory_name = \"targetfolder\" #it's name of your folders\n",
    "s3.put_object(Bucket=bucket_name, Key=(directory_name+'/'))\n"
   ]
  },
  {
   "cell_type": "code",
   "execution_count": 21,
   "id": "545fa7fb",
   "metadata": {},
   "outputs": [
    {
     "name": "stdout",
     "output_type": "stream",
     "text": [
      "{'ResponseMetadata': {'RequestId': 'CEBK4HY5ZB2CX00X', 'HostId': 'MHWq4iNcda+FwXxPX1z9BFG/gGNon+Vsk3uXGc6av9TWGeso8Ra/XeykwbSe00M7qqFita2xbtE=', 'HTTPStatusCode': 200, 'HTTPHeaders': {'x-amz-id-2': 'MHWq4iNcda+FwXxPX1z9BFG/gGNon+Vsk3uXGc6av9TWGeso8Ra/XeykwbSe00M7qqFita2xbtE=', 'x-amz-request-id': 'CEBK4HY5ZB2CX00X', 'date': 'Tue, 06 Dec 2022 17:21:01 GMT', 'transfer-encoding': 'chunked', 'server': 'AmazonS3'}, 'RetryAttempts': 0}, 'Payload': <botocore.eventstream.EventStream object at 0x7fb723c01fd0>}\n"
     ]
    }
   ],
   "source": [
    "import boto3\n",
    "\n",
    "\n",
    "client = boto3.client('s3')\n",
    "resp = client.select_object_content(\n",
    "    Bucket='aswiniyuvanawsglue', # Put your own bucket name here.\n",
    "    Key='womens_clothing_ecommerce_reviews.csv', # Put your own key name here.\n",
    "    Expression=\"SELECT * FROM s3object s LIMIT 5\",\n",
    "    ExpressionType='SQL',\n",
    "    InputSerialization={\n",
    "        \"CSV\": {\n",
    "            'FileHeaderInfo': 'USE',\n",
    "        \n",
    "            'RecordDelimiter': '\\n',\n",
    "            'FieldDelimiter': ',',\n",
    "            \n",
    "        },\n",
    "        'CompressionType': 'NONE',\n",
    "        \n",
    "    \n",
    "    },\n",
    "    \n",
    "    OutputSerialization={\n",
    "        'CSV': {\n",
    "            'RecordDelimiter': '\\n',\n",
    "            'FieldDelimiter': ',',\n",
    "            \n",
    "        }\n",
    "    },\n",
    ")\n",
    "\n",
    "print(resp)"
   ]
  },
  {
   "cell_type": "code",
   "execution_count": 22,
   "id": "b3457325",
   "metadata": {},
   "outputs": [
    {
     "name": "stdout",
     "output_type": "stream",
     "text": [
      "{'ResponseMetadata': {'RequestId': '443a8d4c-525b-44ed-ac50-ad4a75c1ed01', 'HTTPStatusCode': 200, 'HTTPHeaders': {'date': 'Wed, 07 Dec 2022 17:11:50 GMT', 'content-type': 'application/x-amz-json-1.1', 'content-length': '2', 'connection': 'keep-alive', 'x-amzn-requestid': '443a8d4c-525b-44ed-ac50-ad4a75c1ed01'}, 'RetryAttempts': 0}}\n"
     ]
    }
   ],
   "source": [
    "import boto3\n",
    "\n",
    "\n",
    "client = boto3.client('glue')\n",
    "response = client.create_database(\n",
    "    \n",
    "    DatabaseInput={\n",
    "        'Name': 'awsgluedatabase',\n",
    "        'Description': 'glue database',\n",
    "        'LocationUri': 's3://aswiniyuvanawsglue/womens_clothing_ecommerce_reviews.csv',\n",
    "        \n",
    "    }\n",
    ")\n",
    "print(response)"
   ]
  },
  {
   "cell_type": "code",
   "execution_count": 29,
   "id": "3ce7ee00",
   "metadata": {},
   "outputs": [
    {
     "ename": "AccessDeniedException",
     "evalue": "An error occurred (AccessDeniedException) when calling the CreateCrawler operation: Account 406452132755 is denied access.",
     "output_type": "error",
     "traceback": [
      "\u001b[0;31m---------------------------------------------------------------------------\u001b[0m",
      "\u001b[0;31mAccessDeniedException\u001b[0m                     Traceback (most recent call last)",
      "Input \u001b[0;32mIn [29]\u001b[0m, in \u001b[0;36m<cell line: 5>\u001b[0;34m()\u001b[0m\n\u001b[1;32m      1\u001b[0m \u001b[38;5;28;01mimport\u001b[39;00m \u001b[38;5;21;01mboto3\u001b[39;00m\n\u001b[1;32m      4\u001b[0m client \u001b[38;5;241m=\u001b[39m boto3\u001b[38;5;241m.\u001b[39mclient(\u001b[38;5;124m'\u001b[39m\u001b[38;5;124mglue\u001b[39m\u001b[38;5;124m'\u001b[39m)\n\u001b[0;32m----> 5\u001b[0m response \u001b[38;5;241m=\u001b[39m \u001b[43mclient\u001b[49m\u001b[38;5;241;43m.\u001b[39;49m\u001b[43mcreate_crawler\u001b[49m\u001b[43m(\u001b[49m\n\u001b[1;32m      6\u001b[0m \u001b[43m    \u001b[49m\u001b[43mName\u001b[49m\u001b[38;5;241;43m=\u001b[39;49m\u001b[38;5;124;43m'\u001b[39;49m\u001b[38;5;124;43mawsgluecrawler\u001b[39;49m\u001b[38;5;124;43m'\u001b[39;49m\u001b[43m,\u001b[49m\n\u001b[1;32m      7\u001b[0m \u001b[43m    \u001b[49m\u001b[43mRole\u001b[49m\u001b[38;5;241;43m=\u001b[39;49m\u001b[38;5;124;43m'\u001b[39;49m\u001b[38;5;124;43mawsgluerole\u001b[39;49m\u001b[38;5;124;43m'\u001b[39;49m\u001b[43m,\u001b[49m\n\u001b[1;32m      8\u001b[0m \u001b[43m    \u001b[49m\u001b[43mDatabaseName\u001b[49m\u001b[38;5;241;43m=\u001b[39;49m\u001b[38;5;124;43m'\u001b[39;49m\u001b[38;5;124;43mawsgluedatabase\u001b[39;49m\u001b[38;5;124;43m'\u001b[39;49m\u001b[43m,\u001b[49m\n\u001b[1;32m      9\u001b[0m \u001b[43m    \u001b[49m\u001b[43mDescription\u001b[49m\u001b[38;5;241;43m=\u001b[39;49m\u001b[38;5;124;43m'\u001b[39;49m\u001b[38;5;124;43maws glue crawler\u001b[39;49m\u001b[38;5;124;43m'\u001b[39;49m\u001b[43m,\u001b[49m\n\u001b[1;32m     10\u001b[0m \u001b[43m    \u001b[49m\u001b[43mTargets\u001b[49m\u001b[38;5;241;43m=\u001b[39;49m\u001b[43m{\u001b[49m\n\u001b[1;32m     11\u001b[0m \u001b[43m        \u001b[49m\u001b[38;5;124;43m'\u001b[39;49m\u001b[38;5;124;43mS3Targets\u001b[39;49m\u001b[38;5;124;43m'\u001b[39;49m\u001b[43m:\u001b[49m\u001b[43m \u001b[49m\u001b[43m[\u001b[49m\n\u001b[1;32m     12\u001b[0m \u001b[43m            \u001b[49m\u001b[43m{\u001b[49m\n\u001b[1;32m     13\u001b[0m \u001b[43m                \u001b[49m\u001b[38;5;124;43m'\u001b[39;49m\u001b[38;5;124;43mPath\u001b[39;49m\u001b[38;5;124;43m'\u001b[39;49m\u001b[43m:\u001b[49m\u001b[43m \u001b[49m\u001b[38;5;124;43m'\u001b[39;49m\u001b[38;5;124;43ms3://aswiniyuvanawsglue/womens_clothing_ecommerce_reviews.csv\u001b[39;49m\u001b[38;5;124;43m'\u001b[39;49m\u001b[43m,\u001b[49m\n\u001b[1;32m     14\u001b[0m \u001b[43m                \u001b[49m\u001b[38;5;124;43m'\u001b[39;49m\u001b[38;5;124;43mExclusions\u001b[39;49m\u001b[38;5;124;43m'\u001b[39;49m\u001b[43m:\u001b[49m\u001b[43m \u001b[49m\u001b[43m[\u001b[49m\n\u001b[1;32m     15\u001b[0m \u001b[43m                \u001b[49m\u001b[43m]\u001b[49m\n\u001b[1;32m     16\u001b[0m \u001b[43m            \u001b[49m\u001b[43m}\u001b[49m\u001b[43m,\u001b[49m\n\u001b[1;32m     17\u001b[0m \u001b[43m        \u001b[49m\u001b[43m]\u001b[49m\n\u001b[1;32m     18\u001b[0m \u001b[43m    \u001b[49m\u001b[43m}\u001b[49m\n\u001b[1;32m     19\u001b[0m \u001b[43m)\u001b[49m\n\u001b[1;32m     22\u001b[0m \u001b[38;5;28mprint\u001b[39m(response)\n",
      "File \u001b[0;32m~/opt/anaconda3/lib/python3.9/site-packages/botocore/client.py:508\u001b[0m, in \u001b[0;36mClientCreator._create_api_method.<locals>._api_call\u001b[0;34m(self, *args, **kwargs)\u001b[0m\n\u001b[1;32m    504\u001b[0m     \u001b[38;5;28;01mraise\u001b[39;00m \u001b[38;5;167;01mTypeError\u001b[39;00m(\n\u001b[1;32m    505\u001b[0m         \u001b[38;5;124mf\u001b[39m\u001b[38;5;124m\"\u001b[39m\u001b[38;5;132;01m{\u001b[39;00mpy_operation_name\u001b[38;5;132;01m}\u001b[39;00m\u001b[38;5;124m() only accepts keyword arguments.\u001b[39m\u001b[38;5;124m\"\u001b[39m\n\u001b[1;32m    506\u001b[0m     )\n\u001b[1;32m    507\u001b[0m \u001b[38;5;66;03m# The \"self\" in this scope is referring to the BaseClient.\u001b[39;00m\n\u001b[0;32m--> 508\u001b[0m \u001b[38;5;28;01mreturn\u001b[39;00m \u001b[38;5;28;43mself\u001b[39;49m\u001b[38;5;241;43m.\u001b[39;49m\u001b[43m_make_api_call\u001b[49m\u001b[43m(\u001b[49m\u001b[43moperation_name\u001b[49m\u001b[43m,\u001b[49m\u001b[43m \u001b[49m\u001b[43mkwargs\u001b[49m\u001b[43m)\u001b[49m\n",
      "File \u001b[0;32m~/opt/anaconda3/lib/python3.9/site-packages/botocore/client.py:915\u001b[0m, in \u001b[0;36mBaseClient._make_api_call\u001b[0;34m(self, operation_name, api_params)\u001b[0m\n\u001b[1;32m    913\u001b[0m     error_code \u001b[38;5;241m=\u001b[39m parsed_response\u001b[38;5;241m.\u001b[39mget(\u001b[38;5;124m\"\u001b[39m\u001b[38;5;124mError\u001b[39m\u001b[38;5;124m\"\u001b[39m, {})\u001b[38;5;241m.\u001b[39mget(\u001b[38;5;124m\"\u001b[39m\u001b[38;5;124mCode\u001b[39m\u001b[38;5;124m\"\u001b[39m)\n\u001b[1;32m    914\u001b[0m     error_class \u001b[38;5;241m=\u001b[39m \u001b[38;5;28mself\u001b[39m\u001b[38;5;241m.\u001b[39mexceptions\u001b[38;5;241m.\u001b[39mfrom_code(error_code)\n\u001b[0;32m--> 915\u001b[0m     \u001b[38;5;28;01mraise\u001b[39;00m error_class(parsed_response, operation_name)\n\u001b[1;32m    916\u001b[0m \u001b[38;5;28;01melse\u001b[39;00m:\n\u001b[1;32m    917\u001b[0m     \u001b[38;5;28;01mreturn\u001b[39;00m parsed_response\n",
      "\u001b[0;31mAccessDeniedException\u001b[0m: An error occurred (AccessDeniedException) when calling the CreateCrawler operation: Account 406452132755 is denied access."
     ]
    }
   ],
   "source": [
    "import boto3\n",
    "\n",
    "\n",
    "client = boto3.client('glue')\n",
    "response = client.create_crawler(\n",
    "    Name='awsgluecrawler',\n",
    "    Role='awsgluerole',\n",
    "    DatabaseName='awsgluedatabase',\n",
    "    Description='aws glue crawler',\n",
    "    Targets={\n",
    "        'S3Targets': [\n",
    "            {\n",
    "                'Path': 's3://aswiniyuvanawsglue/womens_clothing_ecommerce_reviews.csv',\n",
    "                'Exclusions': [\n",
    "                ]\n",
    "            },\n",
    "        ]\n",
    "    }\n",
    ")\n",
    "        \n",
    "        \n",
    "print(response)       "
   ]
  },
  {
   "cell_type": "code",
   "execution_count": 30,
   "id": "9ae31a82",
   "metadata": {},
   "outputs": [],
   "source": [
    "import boto3\n",
    "client=boto3.client(\"iam\")"
   ]
  },
  {
   "cell_type": "code",
   "execution_count": 31,
   "id": "8215dbbf",
   "metadata": {},
   "outputs": [],
   "source": [
    "lambda_assume={\n",
    "    \"Version\": \"2012-10-17\",\n",
    "    \"Statement\": [\n",
    "        {\n",
    "            \"Effect\": \"Allow\",\n",
    "            \"Action\": [\n",
    "                \"sts:AssumeRole\"\n",
    "            ],\n",
    "            \"Principal\": {\n",
    "                \"Service\": [\n",
    "                    \"lambda.amazonaws.com\"\n",
    "                ]\n",
    "            }\n",
    "        }\n",
    "    ]\n",
    "}\n",
    "policy_s3_lambda={\n",
    "    \"Version\": \"2012-10-17\",\n",
    "    \"Statement\": [\n",
    "        {\n",
    "            \"Effect\": \"Allow\",\n",
    "            \"Action\": [\n",
    "                \"s3:*\",\n",
    "                \"s3-object-lambda:*\"\n",
    "            ],\n",
    "            \"Resource\": \"*\"\n",
    "        }\n",
    "    ]\n",
    "}"
   ]
  },
  {
   "cell_type": "code",
   "execution_count": 32,
   "id": "1b473c5b",
   "metadata": {},
   "outputs": [
    {
     "name": "stdout",
     "output_type": "stream",
     "text": [
      "{'Role': {'Path': '/', 'RoleName': 'Lambdarole', 'RoleId': 'AROAV5ITPLOJ3SZY5XSYR', 'Arn': 'arn:aws:iam::406452132755:role/Lambdarole', 'CreateDate': datetime.datetime(2022, 12, 12, 15, 38, 2, tzinfo=tzutc()), 'AssumeRolePolicyDocument': {'Version': '2012-10-17', 'Statement': [{'Effect': 'Allow', 'Action': ['sts:AssumeRole'], 'Principal': {'Service': ['lambda.amazonaws.com']}}]}}, 'ResponseMetadata': {'RequestId': '5942fea5-c960-4177-958f-ba2eb06bbd93', 'HTTPStatusCode': 200, 'HTTPHeaders': {'x-amzn-requestid': '5942fea5-c960-4177-958f-ba2eb06bbd93', 'content-type': 'text/xml', 'content-length': '786', 'date': 'Mon, 12 Dec 2022 15:38:02 GMT'}, 'RetryAttempts': 0}}\n"
     ]
    }
   ],
   "source": [
    "import json\n",
    "response = client.create_role(\n",
    "    RoleName='Lambdarole',\n",
    "    AssumeRolePolicyDocument=json.dumps(lambda_assume)\n",
    ")\n",
    "\n",
    "print(response)"
   ]
  },
  {
   "cell_type": "code",
   "execution_count": 33,
   "id": "b4f8911c",
   "metadata": {},
   "outputs": [
    {
     "name": "stdout",
     "output_type": "stream",
     "text": [
      "Account roles:\n",
      "  - AmazonSageMaker-ExecutionRole-20221208T112682\n",
      "  - AmazonSagemakerCanvasForecastRole-1670520360687\n",
      "  - AmazonSageMakerServiceCatalogProductsApiGatewayRole\n",
      "  - AmazonSageMakerServiceCatalogProductsCloudformationRole\n",
      "  - AmazonSageMakerServiceCatalogProductsCodeBuildRole\n",
      "  - AmazonSageMakerServiceCatalogProductsCodePipelineRole\n",
      "  - AmazonSageMakerServiceCatalogProductsEventsRole\n",
      "  - AmazonSageMakerServiceCatalogProductsExecutionRole\n",
      "  - AmazonSageMakerServiceCatalogProductsFirehoseRole\n",
      "  - AmazonSageMakerServiceCatalogProductsGlueRole\n",
      "  - AmazonSageMakerServiceCatalogProductsLambdaRole\n",
      "  - AmazonSageMakerServiceCatalogProductsLaunchRole\n",
      "  - AmazonSageMakerServiceCatalogProductsUseRole\n",
      "  - awsgluerole\n",
      "  - AWSServiceRoleForElasticLoadBalancing\n",
      "  - AWSServiceRoleForSupport\n",
      "  - AWSServiceRoleForTrustedAdvisor\n",
      "  - Lambdarole\n"
     ]
    }
   ],
   "source": [
    "import boto3\n",
    "\n",
    "IAM_RESOURCE = boto3.resource('iam')\n",
    "\n",
    "roles = IAM_RESOURCE.roles.all()\n",
    "\n",
    "print('Account roles:')\n",
    "\n",
    "for role in roles:\n",
    "    print(f'  - {role.role_name}')"
   ]
  },
  {
   "cell_type": "code",
   "execution_count": 45,
   "id": "9699b7bd",
   "metadata": {},
   "outputs": [
    {
     "data": {
      "text/plain": [
       "{'ResponseMetadata': {'RequestId': '4b7bf5b4-4eaf-44c8-a9ab-83c963884a3c',\n",
       "  'HTTPStatusCode': 200,\n",
       "  'HTTPHeaders': {'x-amzn-requestid': '4b7bf5b4-4eaf-44c8-a9ab-83c963884a3c',\n",
       "   'content-type': 'text/xml',\n",
       "   'content-length': '212',\n",
       "   'date': 'Mon, 12 Dec 2022 18:22:41 GMT'},\n",
       "  'RetryAttempts': 0}}"
      ]
     },
     "execution_count": 45,
     "metadata": {},
     "output_type": "execute_result"
    }
   ],
   "source": [
    "import boto3\n",
    "resource=boto3.resource('iam')\n",
    "\n",
    "role=resource.Role('Lambdarole')\n",
    "role.attach_policy(PolicyArn='arn:aws:iam::aws:policy/AmazonS3FullAccess')\n",
    "role.attach_policy(PolicyArn='arn:aws:iam::aws:policy/CloudWatchFullAccess')\n",
    "\n"
   ]
  },
  {
   "cell_type": "code",
   "execution_count": 44,
   "id": "d970070c",
   "metadata": {},
   "outputs": [],
   "source": [
    "import json\n",
    "\n",
    "def lambda_handler(event, context):\n",
    "    print(f\"event:{event}\")\n",
    "    return {\n",
    "        'statusCode': 200,\n",
    "        'body': json.dumps('Hello World')\n",
    "        \n",
    "    }"
   ]
  },
  {
   "cell_type": "code",
   "execution_count": 47,
   "id": "5f6a651f",
   "metadata": {},
   "outputs": [
    {
     "ename": "ParamValidationError",
     "evalue": "Parameter validation failed:\nMissing required parameter in input: \"Code\"",
     "output_type": "error",
     "traceback": [
      "\u001b[0;31m---------------------------------------------------------------------------\u001b[0m",
      "\u001b[0;31mParamValidationError\u001b[0m                      Traceback (most recent call last)",
      "Input \u001b[0;32mIn [47]\u001b[0m, in \u001b[0;36m<cell line: 9>\u001b[0;34m()\u001b[0m\n\u001b[1;32m      4\u001b[0m \u001b[38;5;66;03m#with open('lambda.zip', 'rb') as f:\u001b[39;00m\n\u001b[1;32m      5\u001b[0m \t\u001b[38;5;66;03m#zipped_code = f.read()\u001b[39;00m\n\u001b[1;32m      7\u001b[0m role \u001b[38;5;241m=\u001b[39m iam_client\u001b[38;5;241m.\u001b[39mget_role(RoleName\u001b[38;5;241m=\u001b[39m\u001b[38;5;124m'\u001b[39m\u001b[38;5;124mLambdarole\u001b[39m\u001b[38;5;124m'\u001b[39m)\n\u001b[0;32m----> 9\u001b[0m response \u001b[38;5;241m=\u001b[39m \u001b[43mlambda_client\u001b[49m\u001b[38;5;241;43m.\u001b[39;49m\u001b[43mcreate_function\u001b[49m\u001b[43m(\u001b[49m\n\u001b[1;32m     10\u001b[0m \u001b[43m    \u001b[49m\u001b[43mFunctionName\u001b[49m\u001b[38;5;241;43m=\u001b[39;49m\u001b[38;5;124;43m'\u001b[39;49m\u001b[38;5;124;43mhelloWorldLambda\u001b[39;49m\u001b[38;5;124;43m'\u001b[39;49m\u001b[43m,\u001b[49m\n\u001b[1;32m     11\u001b[0m \u001b[43m    \u001b[49m\u001b[43mRuntime\u001b[49m\u001b[38;5;241;43m=\u001b[39;49m\u001b[38;5;124;43m'\u001b[39;49m\u001b[38;5;124;43mpython3.9\u001b[39;49m\u001b[38;5;124;43m'\u001b[39;49m\u001b[43m,\u001b[49m\n\u001b[1;32m     12\u001b[0m \u001b[43m    \u001b[49m\u001b[43mRole\u001b[49m\u001b[38;5;241;43m=\u001b[39;49m\u001b[43mrole\u001b[49m\u001b[43m[\u001b[49m\u001b[38;5;124;43m'\u001b[39;49m\u001b[38;5;124;43mRole\u001b[39;49m\u001b[38;5;124;43m'\u001b[39;49m\u001b[43m]\u001b[49m\u001b[43m[\u001b[49m\u001b[38;5;124;43m'\u001b[39;49m\u001b[38;5;124;43mArn\u001b[39;49m\u001b[38;5;124;43m'\u001b[39;49m\u001b[43m]\u001b[49m\u001b[43m,\u001b[49m\n\u001b[1;32m     13\u001b[0m \u001b[43m    \u001b[49m\u001b[43mHandler\u001b[49m\u001b[38;5;241;43m=\u001b[39;49m\u001b[38;5;124;43m'\u001b[39;49m\u001b[38;5;124;43mhandler.lambda_handler\u001b[39;49m\u001b[38;5;124;43m'\u001b[39;49m\u001b[43m,\u001b[49m\n\u001b[1;32m     14\u001b[0m \u001b[43m    \u001b[49m\u001b[38;5;66;43;03m#Code=dict(ZipFile=zipped_code),\u001b[39;49;00m\n\u001b[1;32m     15\u001b[0m \u001b[43m    \u001b[49m\u001b[43mTimeout\u001b[49m\u001b[38;5;241;43m=\u001b[39;49m\u001b[38;5;241;43m300\u001b[39;49m\u001b[43m,\u001b[49m\u001b[43m \u001b[49m\u001b[38;5;66;43;03m# Maximum allowable timeout\u001b[39;49;00m\n\u001b[1;32m     16\u001b[0m \u001b[43m    \u001b[49m\u001b[38;5;66;43;03m# Set up Lambda function environment variables\u001b[39;49;00m\n\u001b[1;32m     17\u001b[0m \u001b[43m    \u001b[49m\u001b[43mEnvironment\u001b[49m\u001b[38;5;241;43m=\u001b[39;49m\u001b[43m{\u001b[49m\n\u001b[1;32m     18\u001b[0m \u001b[43m        \u001b[49m\u001b[38;5;124;43m'\u001b[39;49m\u001b[38;5;124;43mVariables\u001b[39;49m\u001b[38;5;124;43m'\u001b[39;49m\u001b[43m:\u001b[49m\u001b[43m \u001b[49m\u001b[43m{\u001b[49m\n\u001b[1;32m     19\u001b[0m \u001b[43m            \u001b[49m\u001b[38;5;124;43m'\u001b[39;49m\u001b[38;5;124;43mName\u001b[39;49m\u001b[38;5;124;43m'\u001b[39;49m\u001b[43m:\u001b[49m\u001b[43m \u001b[49m\u001b[38;5;124;43m'\u001b[39;49m\u001b[38;5;124;43mhelloWorldLambda\u001b[39;49m\u001b[38;5;124;43m'\u001b[39;49m\u001b[43m,\u001b[49m\n\u001b[1;32m     20\u001b[0m \u001b[43m            \u001b[49m\u001b[38;5;124;43m'\u001b[39;49m\u001b[38;5;124;43mEnvironment\u001b[39;49m\u001b[38;5;124;43m'\u001b[39;49m\u001b[43m:\u001b[49m\u001b[43m \u001b[49m\u001b[38;5;124;43m'\u001b[39;49m\u001b[38;5;124;43mprod\u001b[39;49m\u001b[38;5;124;43m'\u001b[39;49m\n\u001b[1;32m     21\u001b[0m \u001b[43m        \u001b[49m\u001b[43m}\u001b[49m\n\u001b[1;32m     22\u001b[0m \u001b[43m    \u001b[49m\u001b[43m}\u001b[49m\u001b[43m,\u001b[49m\n\u001b[1;32m     23\u001b[0m \u001b[43m)\u001b[49m\n\u001b[1;32m     25\u001b[0m \u001b[38;5;28mprint\u001b[39m(response)\n",
      "File \u001b[0;32m~/opt/anaconda3/lib/python3.9/site-packages/botocore/client.py:508\u001b[0m, in \u001b[0;36mClientCreator._create_api_method.<locals>._api_call\u001b[0;34m(self, *args, **kwargs)\u001b[0m\n\u001b[1;32m    504\u001b[0m     \u001b[38;5;28;01mraise\u001b[39;00m \u001b[38;5;167;01mTypeError\u001b[39;00m(\n\u001b[1;32m    505\u001b[0m         \u001b[38;5;124mf\u001b[39m\u001b[38;5;124m\"\u001b[39m\u001b[38;5;132;01m{\u001b[39;00mpy_operation_name\u001b[38;5;132;01m}\u001b[39;00m\u001b[38;5;124m() only accepts keyword arguments.\u001b[39m\u001b[38;5;124m\"\u001b[39m\n\u001b[1;32m    506\u001b[0m     )\n\u001b[1;32m    507\u001b[0m \u001b[38;5;66;03m# The \"self\" in this scope is referring to the BaseClient.\u001b[39;00m\n\u001b[0;32m--> 508\u001b[0m \u001b[38;5;28;01mreturn\u001b[39;00m \u001b[38;5;28;43mself\u001b[39;49m\u001b[38;5;241;43m.\u001b[39;49m\u001b[43m_make_api_call\u001b[49m\u001b[43m(\u001b[49m\u001b[43moperation_name\u001b[49m\u001b[43m,\u001b[49m\u001b[43m \u001b[49m\u001b[43mkwargs\u001b[49m\u001b[43m)\u001b[49m\n",
      "File \u001b[0;32m~/opt/anaconda3/lib/python3.9/site-packages/botocore/client.py:878\u001b[0m, in \u001b[0;36mBaseClient._make_api_call\u001b[0;34m(self, operation_name, api_params)\u001b[0m\n\u001b[1;32m    869\u001b[0m     logger\u001b[38;5;241m.\u001b[39mdebug(\n\u001b[1;32m    870\u001b[0m         \u001b[38;5;124m'\u001b[39m\u001b[38;5;124mWarning: \u001b[39m\u001b[38;5;132;01m%s\u001b[39;00m\u001b[38;5;124m.\u001b[39m\u001b[38;5;132;01m%s\u001b[39;00m\u001b[38;5;124m() is deprecated\u001b[39m\u001b[38;5;124m'\u001b[39m, service_name, operation_name\n\u001b[1;32m    871\u001b[0m     )\n\u001b[1;32m    872\u001b[0m request_context \u001b[38;5;241m=\u001b[39m {\n\u001b[1;32m    873\u001b[0m     \u001b[38;5;124m'\u001b[39m\u001b[38;5;124mclient_region\u001b[39m\u001b[38;5;124m'\u001b[39m: \u001b[38;5;28mself\u001b[39m\u001b[38;5;241m.\u001b[39mmeta\u001b[38;5;241m.\u001b[39mregion_name,\n\u001b[1;32m    874\u001b[0m     \u001b[38;5;124m'\u001b[39m\u001b[38;5;124mclient_config\u001b[39m\u001b[38;5;124m'\u001b[39m: \u001b[38;5;28mself\u001b[39m\u001b[38;5;241m.\u001b[39mmeta\u001b[38;5;241m.\u001b[39mconfig,\n\u001b[1;32m    875\u001b[0m     \u001b[38;5;124m'\u001b[39m\u001b[38;5;124mhas_streaming_input\u001b[39m\u001b[38;5;124m'\u001b[39m: operation_model\u001b[38;5;241m.\u001b[39mhas_streaming_input,\n\u001b[1;32m    876\u001b[0m     \u001b[38;5;124m'\u001b[39m\u001b[38;5;124mauth_type\u001b[39m\u001b[38;5;124m'\u001b[39m: operation_model\u001b[38;5;241m.\u001b[39mauth_type,\n\u001b[1;32m    877\u001b[0m }\n\u001b[0;32m--> 878\u001b[0m request_dict \u001b[38;5;241m=\u001b[39m \u001b[38;5;28;43mself\u001b[39;49m\u001b[38;5;241;43m.\u001b[39;49m\u001b[43m_convert_to_request_dict\u001b[49m\u001b[43m(\u001b[49m\n\u001b[1;32m    879\u001b[0m \u001b[43m    \u001b[49m\u001b[43mapi_params\u001b[49m\u001b[43m,\u001b[49m\u001b[43m \u001b[49m\u001b[43moperation_model\u001b[49m\u001b[43m,\u001b[49m\u001b[43m \u001b[49m\u001b[43mcontext\u001b[49m\u001b[38;5;241;43m=\u001b[39;49m\u001b[43mrequest_context\u001b[49m\n\u001b[1;32m    880\u001b[0m \u001b[43m\u001b[49m\u001b[43m)\u001b[49m\n\u001b[1;32m    881\u001b[0m resolve_checksum_context(request_dict, operation_model, api_params)\n\u001b[1;32m    883\u001b[0m service_id \u001b[38;5;241m=\u001b[39m \u001b[38;5;28mself\u001b[39m\u001b[38;5;241m.\u001b[39m_service_model\u001b[38;5;241m.\u001b[39mservice_id\u001b[38;5;241m.\u001b[39mhyphenize()\n",
      "File \u001b[0;32m~/opt/anaconda3/lib/python3.9/site-packages/botocore/client.py:939\u001b[0m, in \u001b[0;36mBaseClient._convert_to_request_dict\u001b[0;34m(self, api_params, operation_model, context)\u001b[0m\n\u001b[1;32m    933\u001b[0m \u001b[38;5;28;01mdef\u001b[39;00m \u001b[38;5;21m_convert_to_request_dict\u001b[39m(\n\u001b[1;32m    934\u001b[0m     \u001b[38;5;28mself\u001b[39m, api_params, operation_model, context\u001b[38;5;241m=\u001b[39m\u001b[38;5;28;01mNone\u001b[39;00m\n\u001b[1;32m    935\u001b[0m ):\n\u001b[1;32m    936\u001b[0m     api_params \u001b[38;5;241m=\u001b[39m \u001b[38;5;28mself\u001b[39m\u001b[38;5;241m.\u001b[39m_emit_api_params(\n\u001b[1;32m    937\u001b[0m         api_params, operation_model, context\n\u001b[1;32m    938\u001b[0m     )\n\u001b[0;32m--> 939\u001b[0m     request_dict \u001b[38;5;241m=\u001b[39m \u001b[38;5;28;43mself\u001b[39;49m\u001b[38;5;241;43m.\u001b[39;49m\u001b[43m_serializer\u001b[49m\u001b[38;5;241;43m.\u001b[39;49m\u001b[43mserialize_to_request\u001b[49m\u001b[43m(\u001b[49m\n\u001b[1;32m    940\u001b[0m \u001b[43m        \u001b[49m\u001b[43mapi_params\u001b[49m\u001b[43m,\u001b[49m\u001b[43m \u001b[49m\u001b[43moperation_model\u001b[49m\n\u001b[1;32m    941\u001b[0m \u001b[43m    \u001b[49m\u001b[43m)\u001b[49m\n\u001b[1;32m    942\u001b[0m     \u001b[38;5;28;01mif\u001b[39;00m \u001b[38;5;129;01mnot\u001b[39;00m \u001b[38;5;28mself\u001b[39m\u001b[38;5;241m.\u001b[39m_client_config\u001b[38;5;241m.\u001b[39minject_host_prefix:\n\u001b[1;32m    943\u001b[0m         request_dict\u001b[38;5;241m.\u001b[39mpop(\u001b[38;5;124m'\u001b[39m\u001b[38;5;124mhost_prefix\u001b[39m\u001b[38;5;124m'\u001b[39m, \u001b[38;5;28;01mNone\u001b[39;00m)\n",
      "File \u001b[0;32m~/opt/anaconda3/lib/python3.9/site-packages/botocore/validate.py:381\u001b[0m, in \u001b[0;36mParamValidationDecorator.serialize_to_request\u001b[0;34m(self, parameters, operation_model)\u001b[0m\n\u001b[1;32m    377\u001b[0m     report \u001b[38;5;241m=\u001b[39m \u001b[38;5;28mself\u001b[39m\u001b[38;5;241m.\u001b[39m_param_validator\u001b[38;5;241m.\u001b[39mvalidate(\n\u001b[1;32m    378\u001b[0m         parameters, operation_model\u001b[38;5;241m.\u001b[39minput_shape\n\u001b[1;32m    379\u001b[0m     )\n\u001b[1;32m    380\u001b[0m     \u001b[38;5;28;01mif\u001b[39;00m report\u001b[38;5;241m.\u001b[39mhas_errors():\n\u001b[0;32m--> 381\u001b[0m         \u001b[38;5;28;01mraise\u001b[39;00m ParamValidationError(report\u001b[38;5;241m=\u001b[39mreport\u001b[38;5;241m.\u001b[39mgenerate_report())\n\u001b[1;32m    382\u001b[0m \u001b[38;5;28;01mreturn\u001b[39;00m \u001b[38;5;28mself\u001b[39m\u001b[38;5;241m.\u001b[39m_serializer\u001b[38;5;241m.\u001b[39mserialize_to_request(\n\u001b[1;32m    383\u001b[0m     parameters, operation_model\n\u001b[1;32m    384\u001b[0m )\n",
      "\u001b[0;31mParamValidationError\u001b[0m: Parameter validation failed:\nMissing required parameter in input: \"Code\""
     ]
    }
   ],
   "source": [
    "import boto3\n",
    "iam_client = boto3.client('iam')\n",
    "lambda_client = boto3.client('lambda')\n",
    "#with open('lambda.zip', 'rb') as f:\n",
    "\t#zipped_code = f.read()\n",
    "  \n",
    "role = iam_client.get_role(RoleName='Lambdarole')\n",
    "\n",
    "response = lambda_client.create_function(\n",
    "    FunctionName='helloWorldLambda',\n",
    "    Runtime='python3.9',\n",
    "    Role=role['Role']['Arn'],\n",
    "    Handler='handler.lambda_handler',\n",
    "    Code=dict(ZipFile=zipped_code),\n",
    "    Timeout=300, # Maximum allowable timeout\n",
    "    # Set up Lambda function environment variables\n",
    "    Environment={\n",
    "        'Variables': {\n",
    "            'Name': 'helloWorldLambda',\n",
    "            'Environment': 'prod'\n",
    "        }\n",
    "    },\n",
    ")\n",
    "\n",
    "print(response)"
   ]
  },
  {
   "cell_type": "code",
   "execution_count": 24,
   "id": "e036fff5",
   "metadata": {},
   "outputs": [],
   "source": [
    "import zipfile\n",
    "foo_zip = zipfile.ZipFile ( 'handler.zip', 'w' )\n",
    "foo_zip.write ( 'handler.py', compress_type=zipfile.ZIP_DEFLATED )\n",
    "foo_zip.close ()"
   ]
  },
  {
   "cell_type": "code",
   "execution_count": 9,
   "id": "8ba6432c",
   "metadata": {},
   "outputs": [
    {
     "name": "stdout",
     "output_type": "stream",
     "text": [
      "{'ResponseMetadata': {'RequestId': '7f994af4-80d1-4de2-89a1-df188e4dd291', 'HTTPStatusCode': 201, 'HTTPHeaders': {'date': 'Wed, 14 Dec 2022 17:19:39 GMT', 'content-type': 'application/json', 'content-length': '1106', 'connection': 'keep-alive', 'x-amzn-requestid': '7f994af4-80d1-4de2-89a1-df188e4dd291'}, 'RetryAttempts': 0}, 'FunctionName': 'helloWorldLambda', 'FunctionArn': 'arn:aws:lambda:us-east-1:406452132755:function:helloWorldLambda', 'Runtime': 'python3.9', 'Role': 'arn:aws:iam::406452132755:role/Lambdarole', 'Handler': 'handler.lambda_handler', 'CodeSize': 234, 'Description': '', 'Timeout': 300, 'MemorySize': 128, 'LastModified': '2022-12-14T17:19:39.147+0000', 'CodeSha256': 'OHif/Lyl6oMadlFzKQDYibIdDyLZA1ri2A5OaHgLLFQ=', 'Version': '$LATEST', 'Environment': {'Variables': {'Environment': 'prod', 'Name': 'helloWorldLambda'}}, 'TracingConfig': {'Mode': 'PassThrough'}, 'RevisionId': '451398eb-e0da-4594-8e5d-80e67176ac1a', 'State': 'Pending', 'StateReason': 'The function is being created.', 'StateReasonCode': 'Creating', 'PackageType': 'Zip', 'Architectures': ['x86_64'], 'EphemeralStorage': {'Size': 512}}\n"
     ]
    }
   ],
   "source": [
    "import boto3\n",
    "iam_client = boto3.client('iam')\n",
    "lambda_client = boto3.client('lambda')\n",
    "with open('handler.zip', 'rb') as f:\n",
    "\tzipped_code = f.read()\n",
    "  \n",
    "role = iam_client.get_role(RoleName='Lambdarole')\n",
    "\n",
    "response = lambda_client.create_function(\n",
    "    FunctionName='helloWorldLambda',\n",
    "    Runtime='python3.9',\n",
    "    Role=role['Role']['Arn'],\n",
    "    Handler='handler.lambda_handler',\n",
    "    Code=dict(ZipFile=zipped_code),\n",
    "    Timeout=300, # Maximum allowable timeout\n",
    "    # Set up Lambda function environment variables\n",
    "    Environment={\n",
    "        'Variables': {\n",
    "            'Name': 'helloWorldLambda',\n",
    "            'Environment': 'prod'\n",
    "        }\n",
    "    },\n",
    ")\n",
    "\n",
    "print(response)"
   ]
  },
  {
   "cell_type": "code",
   "execution_count": 10,
   "id": "62ca16d5",
   "metadata": {},
   "outputs": [
    {
     "name": "stdout",
     "output_type": "stream",
     "text": [
      "<botocore.response.StreamingBody object at 0x7f82ef472670>\n",
      "{\"statusCode\": 200, \"body\": \"\\\"Hello World\\\"\"}\n"
     ]
    }
   ],
   "source": [
    "import boto3, json\n",
    "\n",
    "lambda_client = boto3.client('lambda')\n",
    "\n",
    "test_event = dict()\n",
    "\n",
    "response = lambda_client.invoke(\n",
    "  FunctionName='helloWorldLambda',\n",
    "  Payload=json.dumps(test_event),\n",
    ")\n",
    "\n",
    "print(response['Payload'])\n",
    "print(response['Payload'].read().decode(\"utf-8\"))"
   ]
  },
  {
   "cell_type": "code",
   "execution_count": 15,
   "id": "978123ab",
   "metadata": {},
   "outputs": [
    {
     "name": "stdout",
     "output_type": "stream",
     "text": [
      "Existing buckets:\n",
      "  aswiniyuvanawsglue\n",
      "  aswiniyuvanawsgluetarget\n"
     ]
    }
   ],
   "source": [
    "import boto3\n",
    "client=boto3.client('s3')\n",
    "response = client.list_buckets()\n",
    "\n",
    "# Output the bucket names\n",
    "print('Existing buckets:')\n",
    "for bucket in response['Buckets']:\n",
    "    print(f'  {bucket[\"Name\"]}')\n",
    "    "
   ]
  },
  {
   "cell_type": "code",
   "execution_count": 19,
   "id": "bc38b725",
   "metadata": {},
   "outputs": [
    {
     "ename": "ResourceConflictException",
     "evalue": "An error occurred (ResourceConflictException) when calling the AddPermission operation: The statement id (1) provided already exists. Please provide a new statement id, or remove the existing statement.",
     "output_type": "error",
     "traceback": [
      "\u001b[0;31m---------------------------------------------------------------------------\u001b[0m",
      "\u001b[0;31mResourceConflictException\u001b[0m                 Traceback (most recent call last)",
      "Input \u001b[0;32mIn [19]\u001b[0m, in \u001b[0;36m<cell line: 2>\u001b[0;34m()\u001b[0m\n\u001b[1;32m      1\u001b[0m client\u001b[38;5;241m=\u001b[39mboto3\u001b[38;5;241m.\u001b[39mclient(\u001b[38;5;124m'\u001b[39m\u001b[38;5;124mlambda\u001b[39m\u001b[38;5;124m'\u001b[39m)\n\u001b[0;32m----> 2\u001b[0m response \u001b[38;5;241m=\u001b[39m \u001b[43mclient\u001b[49m\u001b[38;5;241;43m.\u001b[39;49m\u001b[43madd_permission\u001b[49m\u001b[43m(\u001b[49m\n\u001b[1;32m      3\u001b[0m \u001b[43m     \u001b[49m\u001b[43mFunctionName\u001b[49m\u001b[38;5;241;43m=\u001b[39;49m\u001b[38;5;124;43m'\u001b[39;49m\u001b[38;5;124;43mhelloWorldLambda\u001b[39;49m\u001b[38;5;124;43m'\u001b[39;49m\u001b[43m,\u001b[49m\n\u001b[1;32m      4\u001b[0m \u001b[43m     \u001b[49m\u001b[43mStatementId\u001b[49m\u001b[38;5;241;43m=\u001b[39;49m\u001b[38;5;124;43m'\u001b[39;49m\u001b[38;5;124;43m1\u001b[39;49m\u001b[38;5;124;43m'\u001b[39;49m\u001b[43m,\u001b[49m\n\u001b[1;32m      5\u001b[0m \u001b[43m     \u001b[49m\u001b[43mAction\u001b[49m\u001b[38;5;241;43m=\u001b[39;49m\u001b[38;5;124;43m'\u001b[39;49m\u001b[38;5;124;43mlambda:InvokeFunction\u001b[39;49m\u001b[38;5;124;43m'\u001b[39;49m\u001b[43m,\u001b[49m\n\u001b[1;32m      6\u001b[0m \u001b[43m     \u001b[49m\u001b[43mPrincipal\u001b[49m\u001b[38;5;241;43m=\u001b[39;49m\u001b[38;5;124;43m'\u001b[39;49m\u001b[38;5;124;43ms3.amazonaws.com\u001b[39;49m\u001b[38;5;124;43m'\u001b[39;49m\u001b[43m,\u001b[49m\n\u001b[1;32m      7\u001b[0m \u001b[43m     \u001b[49m\u001b[43mSourceArn\u001b[49m\u001b[38;5;241;43m=\u001b[39;49m\u001b[38;5;124;43m'\u001b[39;49m\u001b[38;5;124;43marn:aws:s3:::aswiniyuvanawsglue\u001b[39;49m\u001b[38;5;124;43m'\u001b[39;49m\u001b[43m,\u001b[49m\n\u001b[1;32m      8\u001b[0m \u001b[43m     \u001b[49m\u001b[38;5;66;43;03m#SourceAccount='66666666666'\u001b[39;49;00m\n\u001b[1;32m      9\u001b[0m \u001b[43m \u001b[49m\u001b[43m)\u001b[49m\n\u001b[1;32m     10\u001b[0m \u001b[38;5;28mprint\u001b[39m(response)\n\u001b[1;32m     11\u001b[0m client \u001b[38;5;241m=\u001b[39m boto3\u001b[38;5;241m.\u001b[39mclient(\n\u001b[1;32m     12\u001b[0m                     \u001b[38;5;124m'\u001b[39m\u001b[38;5;124ms3\u001b[39m\u001b[38;5;124m'\u001b[39m,\n\u001b[1;32m     13\u001b[0m                     )\n",
      "File \u001b[0;32m~/opt/anaconda3/lib/python3.9/site-packages/botocore/client.py:401\u001b[0m, in \u001b[0;36mClientCreator._create_api_method.<locals>._api_call\u001b[0;34m(self, *args, **kwargs)\u001b[0m\n\u001b[1;32m    398\u001b[0m     \u001b[38;5;28;01mraise\u001b[39;00m \u001b[38;5;167;01mTypeError\u001b[39;00m(\n\u001b[1;32m    399\u001b[0m         \u001b[38;5;124m\"\u001b[39m\u001b[38;5;132;01m%s\u001b[39;00m\u001b[38;5;124m() only accepts keyword arguments.\u001b[39m\u001b[38;5;124m\"\u001b[39m \u001b[38;5;241m%\u001b[39m py_operation_name)\n\u001b[1;32m    400\u001b[0m \u001b[38;5;66;03m# The \"self\" in this scope is referring to the BaseClient.\u001b[39;00m\n\u001b[0;32m--> 401\u001b[0m \u001b[38;5;28;01mreturn\u001b[39;00m \u001b[38;5;28;43mself\u001b[39;49m\u001b[38;5;241;43m.\u001b[39;49m\u001b[43m_make_api_call\u001b[49m\u001b[43m(\u001b[49m\u001b[43moperation_name\u001b[49m\u001b[43m,\u001b[49m\u001b[43m \u001b[49m\u001b[43mkwargs\u001b[49m\u001b[43m)\u001b[49m\n",
      "File \u001b[0;32m~/opt/anaconda3/lib/python3.9/site-packages/botocore/client.py:731\u001b[0m, in \u001b[0;36mBaseClient._make_api_call\u001b[0;34m(self, operation_name, api_params)\u001b[0m\n\u001b[1;32m    729\u001b[0m     error_code \u001b[38;5;241m=\u001b[39m parsed_response\u001b[38;5;241m.\u001b[39mget(\u001b[38;5;124m\"\u001b[39m\u001b[38;5;124mError\u001b[39m\u001b[38;5;124m\"\u001b[39m, {})\u001b[38;5;241m.\u001b[39mget(\u001b[38;5;124m\"\u001b[39m\u001b[38;5;124mCode\u001b[39m\u001b[38;5;124m\"\u001b[39m)\n\u001b[1;32m    730\u001b[0m     error_class \u001b[38;5;241m=\u001b[39m \u001b[38;5;28mself\u001b[39m\u001b[38;5;241m.\u001b[39mexceptions\u001b[38;5;241m.\u001b[39mfrom_code(error_code)\n\u001b[0;32m--> 731\u001b[0m     \u001b[38;5;28;01mraise\u001b[39;00m error_class(parsed_response, operation_name)\n\u001b[1;32m    732\u001b[0m \u001b[38;5;28;01melse\u001b[39;00m:\n\u001b[1;32m    733\u001b[0m     \u001b[38;5;28;01mreturn\u001b[39;00m parsed_response\n",
      "\u001b[0;31mResourceConflictException\u001b[0m: An error occurred (ResourceConflictException) when calling the AddPermission operation: The statement id (1) provided already exists. Please provide a new statement id, or remove the existing statement."
     ]
    }
   ],
   "source": [
    "client=boto3.client('lambda')\n",
    "response = client.add_permission(\n",
    "     FunctionName='helloWorldLambda',\n",
    "     StatementId='1',\n",
    "     Action='lambda:InvokeFunction',\n",
    "     Principal='s3.amazonaws.com',\n",
    "     SourceArn='arn:aws:s3:::aswiniyuvanawsglue',\n",
    "     #SourceAccount='66666666666'\n",
    " )\n",
    "print(response)\n",
    "client = boto3.client(\n",
    "                    's3',\n",
    "                    )\n",
    "\n",
    "response = client.put_bucket_notification_configuration(\n",
    "Bucket='aswiniyuvanawsglue',\n",
    "NotificationConfiguration= {'LambdaFunctionConfigurations':[{'LambdaFunctionArn': 'arn:aws:lambda:us-east-1:406452132755:function:helloWorldLambda', 'Events': ['s3:ObjectCreated:*']}]})"
   ]
  },
  {
   "cell_type": "code",
   "execution_count": 23,
   "id": "6b012a99",
   "metadata": {},
   "outputs": [],
   "source": [
    "s3 = boto3.client('s3')\n",
    "\n",
    "filename = 'route53.txt'\n",
    "bucket_name = 'aswiniyuvanawsglue'\n",
    "\n",
    "# Uploads the given file using a managed uploader, which will split up large\n",
    "# files automatically and upload parts in parallel.\n",
    "s3.upload_file(filename, bucket_name, filename)\n",
    "\n"
   ]
  },
  {
   "cell_type": "code",
   "execution_count": 27,
   "id": "b735a6cc",
   "metadata": {},
   "outputs": [
    {
     "data": {
      "text/plain": [
       "{'ResponseMetadata': {'RequestId': 'V8PGBQDC3F39BQWC',\n",
       "  'HostId': 'K6A083gbLOPXIs53ZJGN5nTdHSQHTghOkbLBtkaTkFeOh+zMbHh6EHqTSxH1gv4YeLyrV0rjzOI=',\n",
       "  'HTTPStatusCode': 204,\n",
       "  'HTTPHeaders': {'x-amz-id-2': 'K6A083gbLOPXIs53ZJGN5nTdHSQHTghOkbLBtkaTkFeOh+zMbHh6EHqTSxH1gv4YeLyrV0rjzOI=',\n",
       "   'x-amz-request-id': 'V8PGBQDC3F39BQWC',\n",
       "   'date': 'Thu, 15 Dec 2022 15:59:52 GMT',\n",
       "   'server': 'AmazonS3'},\n",
       "  'RetryAttempts': 0}}"
      ]
     },
     "execution_count": 27,
     "metadata": {},
     "output_type": "execute_result"
    }
   ],
   "source": [
    "import boto3\n",
    "\n",
    "s3 = boto3.resource('s3')\n",
    "filename = 'route53.txt'\n",
    "bucket_name = 'aswiniyuvanawsglue'\n",
    "s3.Object(bucket_name, filename).delete()"
   ]
  },
  {
   "cell_type": "code",
   "execution_count": 28,
   "id": "537a8f92",
   "metadata": {},
   "outputs": [],
   "source": [
    "s3 = boto3.client('s3')\n",
    "\n",
    "filename = 'route53.txt'\n",
    "bucket_name = 'aswiniyuvanawsglue'\n",
    "\n",
    "# Uploads the given file using a managed uploader, which will split up large\n",
    "# files automatically and upload parts in parallel.\n",
    "s3.upload_file(filename, bucket_name, filename)"
   ]
  },
  {
   "cell_type": "code",
   "execution_count": 29,
   "id": "72d9e4a8",
   "metadata": {},
   "outputs": [
    {
     "name": "stdout",
     "output_type": "stream",
     "text": [
      "{'ResponseMetadata': {'RequestId': '38877967-865f-4e5f-b40f-ebc22ccd0eff', 'HTTPStatusCode': 200, 'HTTPHeaders': {'date': 'Thu, 15 Dec 2022 16:11:38 GMT', 'content-type': 'application/json', 'content-length': '1113', 'connection': 'keep-alive', 'x-amzn-requestid': '38877967-865f-4e5f-b40f-ebc22ccd0eff'}, 'RetryAttempts': 0}, 'FunctionName': 'helloWorldLambda', 'FunctionArn': 'arn:aws:lambda:us-east-1:406452132755:function:helloWorldLambda', 'Runtime': 'python3.9', 'Role': 'arn:aws:iam::406452132755:role/Lambdarole', 'Handler': 'handler.lambda_handler', 'CodeSize': 409, 'Description': '', 'Timeout': 300, 'MemorySize': 128, 'LastModified': '2022-12-15T16:11:37.000+0000', 'CodeSha256': 'NfQ6m8gLN3lBiUEnf6zKOiLaomdSF/B6t8nC0p1LRqU=', 'Version': '$LATEST', 'Environment': {'Variables': {'Environment': 'prod', 'Name': 'helloWorldLambda'}}, 'TracingConfig': {'Mode': 'PassThrough'}, 'RevisionId': '0bfb8dba-a60b-4072-9f73-40d45848253a', 'State': 'Active', 'LastUpdateStatus': 'InProgress', 'LastUpdateStatusReason': 'The function is being created.', 'LastUpdateStatusReasonCode': 'Creating', 'PackageType': 'Zip', 'Architectures': ['x86_64'], 'EphemeralStorage': {'Size': 512}}\n"
     ]
    }
   ],
   "source": [
    "import boto3\n",
    "\n",
    "lambda_client = boto3.client('lambda')\n",
    "\n",
    "with open('handler.zip', 'rb') as f:\n",
    "    zipped_code = f.read()\n",
    "\n",
    "response = lambda_client.update_function_code(\n",
    "    FunctionName='helloWorldLambda',\n",
    "    ZipFile=zipped_code\n",
    ")\n",
    "\n",
    "print(response)"
   ]
  },
  {
   "cell_type": "code",
   "execution_count": 30,
   "id": "f845d135",
   "metadata": {},
   "outputs": [],
   "source": [
    "import boto3\n",
    "import json\n",
    "\n",
    "event_client = boto3.client('events')\n",
    "                            \n",
    "# Create a rule that's scheduled to run every 5 minutes\n",
    "#\n",
    "rslt = event_client.put_rule(Name='DEMO_EVENT',\n",
    "                             ScheduleExpression='rate(1 minute)',                                                                            \n",
    "                             State='ENABLED')\n",
    "# Note here that 'rate(5 minutes)' can be replaced with a \n",
    "# Cron expression"
   ]
  },
  {
   "cell_type": "code",
   "execution_count": 31,
   "id": "de9a010d",
   "metadata": {},
   "outputs": [],
   "source": [
    "rslt = event_client.put_targets(Rule='DEMO_EVENT',\n",
    "                                Targets=[\n",
    "                                    {\n",
    "                                        'Arn': 'arn:aws:lambda:us-east-1:406452132755:function:helloWorldLambda',\n",
    "                                        'Id': 'RANDOM_ID',\n",
    "                                    }\n",
    "                                        ])"
   ]
  },
  {
   "cell_type": "code",
   "execution_count": 33,
   "id": "c1b01748",
   "metadata": {},
   "outputs": [],
   "source": [
    "lambda_clnt = boto3.client('lambda')\n",
    "# Now, we add the permission\n",
    "#\n",
    "rslt = lambda_clnt.add_permission(FunctionName='arn:aws:lambda:us-east-1:406452132755:function:helloWorldLambda',\n",
    "                                  StatementId='RANDOM_ID',\n",
    "                                  Action='lambda:InvokeFunction',\n",
    "                                  Principal='events.amazonaws.com',\n",
    "                                  SourceArn='arn:aws:events:us-east-1:406452132755:rule/DEMO_EVENT')"
   ]
  },
  {
   "cell_type": "code",
   "execution_count": 39,
   "id": "c494ff27",
   "metadata": {},
   "outputs": [
    {
     "data": {
      "text/plain": [
       "[{'ResponseMetadata': {'RequestId': '9DER9TQQZPY4WXPH',\n",
       "   'HostId': 'fNKbdCNxe+qbKJGo3b8ypo9s4MawdFwOERjpNE6PmwKdPLHenHOJ1E+8oNkeUhrxewQCqt57FqM=',\n",
       "   'HTTPStatusCode': 200,\n",
       "   'HTTPHeaders': {'x-amz-id-2': 'fNKbdCNxe+qbKJGo3b8ypo9s4MawdFwOERjpNE6PmwKdPLHenHOJ1E+8oNkeUhrxewQCqt57FqM=',\n",
       "    'x-amz-request-id': '9DER9TQQZPY4WXPH',\n",
       "    'date': 'Fri, 16 Dec 2022 18:48:30 GMT',\n",
       "    'content-type': 'application/xml',\n",
       "    'transfer-encoding': 'chunked',\n",
       "    'server': 'AmazonS3',\n",
       "    'connection': 'close'},\n",
       "   'RetryAttempts': 0},\n",
       "  'Deleted': [{'Key': 'targetfolder/'}]}]"
      ]
     },
     "execution_count": 39,
     "metadata": {},
     "output_type": "execute_result"
    }
   ],
   "source": [
    "s3=boto3.resource('s3')\n",
    "bucket_name='aswiniyuvanawsgluetarget'\n",
    "bucket=s3.Bucket('aswiniyuvanawsgluetarget')\n",
    "bucket.objects.all().delete()\n",
    "#response=s3.Bucket('aswiniyuvanawsgluetarget').delete()\n",
    "#print(response)"
   ]
  },
  {
   "cell_type": "code",
   "execution_count": null,
   "id": "120a6619",
   "metadata": {},
   "outputs": [],
   "source": []
  }
 ],
 "metadata": {
  "kernelspec": {
   "display_name": "Python 3 (ipykernel)",
   "language": "python",
   "name": "python3"
  },
  "language_info": {
   "codemirror_mode": {
    "name": "ipython",
    "version": 3
   },
   "file_extension": ".py",
   "mimetype": "text/x-python",
   "name": "python",
   "nbconvert_exporter": "python",
   "pygments_lexer": "ipython3",
   "version": "3.9.12"
  }
 },
 "nbformat": 4,
 "nbformat_minor": 5
}
